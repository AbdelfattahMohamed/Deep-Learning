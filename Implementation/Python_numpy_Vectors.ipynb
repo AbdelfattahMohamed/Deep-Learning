{
 "cells": [
  {
   "cell_type": "markdown",
   "metadata": {},
   "source": [
    "#### Comparsion between vector and Array"
   ]
  },
  {
   "cell_type": "code",
   "execution_count": 37,
   "metadata": {},
   "outputs": [
    {
     "name": "stdout",
     "output_type": "stream",
     "text": [
      "The random array is:\n",
      " [-0.73270408  0.72165214 -1.03577265 -0.34931862  0.09245557] \n",
      "\n",
      "The rank of array is:\n",
      " (5,)\n"
     ]
    }
   ],
   "source": [
    "import numpy as np \n",
    "a = np.random.randn(5)\n",
    "print(\"The random array is:\\n\",a,\"\\n\")\n",
    "print(\"The rank of array is:\\n\",a.shape)"
   ]
  },
  {
   "cell_type": "code",
   "execution_count": 40,
   "metadata": {},
   "outputs": [
    {
     "name": "stdout",
     "output_type": "stream",
     "text": [
      "[[ 9.2171619  -2.83950024]\n",
      " [-2.83950024  8.36108411]]\n"
     ]
    }
   ],
   "source": [
    "# we estimate that the result is array but the run is not like that bec. this not vector\n",
    "print(np.dot(a,a.T))\n",
    "\n"
   ]
  },
  {
   "cell_type": "code",
   "execution_count": 41,
   "metadata": {},
   "outputs": [
    {
     "name": "stdout",
     "output_type": "stream",
     "text": [
      "The vector is : \n",
      " [[ 0.65168314]\n",
      " [ 0.33218217]\n",
      " [-0.16713646]\n",
      " [ 1.34978694]\n",
      " [-0.05464618]]\n",
      "\n",
      " When we make it again : \n",
      " [[ 0.65168314  0.33218217 -0.16713646  1.34978694 -0.05464618]]\n"
     ]
    }
   ],
   "source": [
    "#print it as array\n",
    "a = np.random.randn(5,1)\n",
    "print(\"The vector is : \\n\",a)\n",
    "# Col Vector\n",
    "print(\"\\n When we make it again : \\n\",a.T)"
   ]
  },
  {
   "cell_type": "code",
   "execution_count": 36,
   "metadata": {},
   "outputs": [
    {
     "name": "stdout",
     "output_type": "stream",
     "text": [
      "[[ 0.68560091 -0.10651146 -0.93333169 -0.98477959  0.39274236]\n",
      " [-0.10651146  0.01654708  0.14499765  0.15299034 -0.06101445]\n",
      " [-0.93333169  0.14499765  1.27057597  1.34061374 -0.53465345]\n",
      " [-0.98477959  0.15299034  1.34061374  1.4145122  -0.56412508]\n",
      " [ 0.39274236 -0.06101445 -0.53465345 -0.56412508  0.2249801 ]]\n"
     ]
    }
   ],
   "source": [
    "# check  the deminsions again\n",
    "print(np.dot(a,a.T))"
   ]
  },
  {
   "cell_type": "code",
   "execution_count": 48,
   "metadata": {},
   "outputs": [
    {
     "name": "stdout",
     "output_type": "stream",
     "text": [
      "The shape after dot : \n",
      " (12288, 45)\n"
     ]
    }
   ],
   "source": [
    "a = np.random.randn(12288, 150) # a.shape = (12288, 150)\n",
    "b = np.random.randn(150, 45) # b.shape = (150, 45)\n",
    "c = np.dot(a,b)\n",
    "print(\"The shape after dot : \\n\",c.shape)"
   ]
  },
  {
   "cell_type": "code",
   "execution_count": 50,
   "metadata": {},
   "outputs": [
    {
     "name": "stdout",
     "output_type": "stream",
     "text": [
      "[[-0.97075522  0.02759618  0.11134774]\n",
      " [ 0.4838635   0.48278208 -0.37396074]\n",
      " [ 1.56650437  3.68995075  1.45214361]]\n",
      "(3, 3)\n"
     ]
    }
   ],
   "source": [
    "a = np.random.randn(3, 3)\n",
    "b = np.random.randn(3, 1)\n",
    "c = a*b\n",
    "print(c)\n",
    "print(c.shape)"
   ]
  },
  {
   "cell_type": "code",
   "execution_count": 53,
   "metadata": {},
   "outputs": [
    {
     "name": "stdout",
     "output_type": "stream",
     "text": [
      "(2, 3)\n"
     ]
    }
   ],
   "source": [
    "a = np.random.randn(2, 3) # a.shape = (2, 3)\n",
    "b = np.random.randn(2, 1) # b.shape = (2, 1)\n",
    "c = a + b\n",
    "print(c.shape)"
   ]
  },
  {
   "cell_type": "code",
   "execution_count": null,
   "metadata": {},
   "outputs": [],
   "source": []
  }
 ],
 "metadata": {
  "kernelspec": {
   "display_name": "Python 3",
   "language": "python",
   "name": "python3"
  },
  "language_info": {
   "codemirror_mode": {
    "name": "ipython",
    "version": 3
   },
   "file_extension": ".py",
   "mimetype": "text/x-python",
   "name": "python",
   "nbconvert_exporter": "python",
   "pygments_lexer": "ipython3",
   "version": "3.7.4"
  }
 },
 "nbformat": 4,
 "nbformat_minor": 2
}
